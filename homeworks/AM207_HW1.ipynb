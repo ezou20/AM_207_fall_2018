{
 "cells": [
  {
   "cell_type": "markdown",
   "metadata": {},
   "source": [
    "# AM207 Homework 1\n",
    "\n",
    "### Chris En and Ethan Zou\n",
    "\n",
    "##### Data: wine_quality_missing.csv\n",
    "\n",
    "**Harvard University**<br>\n",
    "**Fall 2018**<br>\n",
    "**Instructors: Rahul Dave**<br>\n",
    "**Due Date: ** Saturday, September 15th, 2018 at 11:59pm\n",
    "\n",
    "\n",
    "\n",
    "**Instructions:**\n",
    "\n",
    "- Upload your final answers as well as your iPython notebook containing all work to Canvas.\n",
    "\n",
    "- Structure your notebook and your work to maximize readability.\n"
   ]
  },
  {
   "cell_type": "code",
   "execution_count": 32,
   "metadata": {},
   "outputs": [],
   "source": [
    "import numpy as np\n",
    "import scipy.stats\n",
    "import matplotlib\n",
    "import matplotlib.pyplot as plt\n",
    "import matplotlib.mlab as mlab\n",
    "from IPython.display import display\n",
    "from matplotlib import cm\n",
    "import pandas as pd\n",
    "%matplotlib inline"
   ]
  },
  {
   "cell_type": "markdown",
   "metadata": {},
   "source": [
    "## Question 1: Don't Be Sensitive, We're Looking For False Positivity\n",
    "\n",
    "**Coding not required**\n",
    "\n",
    "As the U.S. aims to increase early identification and treatment of people with HIV, a greater focus has been placed on determining the accuracy of HIV tests in real-world settings in order to better identify individuals during the early (acute) stages of infection when transmission risk is especially high.  In order to quantify this, researchers from the University of California, San Francisco conducted a review of over 21,234 HIV tests given between the years 2003 and 2008 in some of the city's highest prevalence populations.  Two of the tests included in the study -- the OraQuick Advance Blood Rapid Antibody Test (a 3rd generation fingerstick blood test we'll henceforth call the **BRT**) and the OraQuick Advance Saliva Rapid Antibody Test (a 3rd generation saliva test we'll henceforth call the **SRT**) -- can be considered Rapidly Administered tests.  According to Wikipedia, the overall prevalence of adult HIV in the United States is 0.3%\n",
    "\n",
    "You and your partner decide to undergo tests for HIV and the two of you are administered the SRT at an HIV screening clinic.  You're aware that the test you've been administered (one of the tests featured in the study) has a sensitivity (true positive rate) of 86.6% and a specificity (true negative rate) of 98.6%.\n",
    "\n",
    "1.1. In the unfortunate event that your partner tests positive what is the probability that he/she has HIV?\n",
    "\n",
    "1.2. Should you be concerned enough to ask for further testing or treatment for your partner?  Justify your answer quantitatively.\n",
    "\n",
    "1.3. The medical staff at the screening clinic decides to independently administer the BRT as it is the only other test they can administer on site.  Based on the UCSF study above, you're aware that this test has a sensitivity (true positive rate) of 91.9% and a specificity of 99.6%.  What is the probability that your partner has the HIV if both tests come up positive (Make the assumption that the independent administration means that the tests are independent of each other)?\n",
    "\n",
    "It turns out the screening clinic didn't have the second test and you and your partner were only able to be administered the SRT. However, on your way home you're reminded that your partner has spent almost all his/her life in the Bahamas where the prevalence of adult HIV is 3.3%.\n",
    "\n",
    "1.4. What is the probability that your Bahamian partner has HIV given that he/she received a positive test result on the SRT?\n",
    "\n",
    "1.5. How does the new information quantifiably affect your decision of whether you should  be concerned enough to ask for treatment or testing for your partner?\n",
    "\n",
    "*Make sure to justify your decisions using your calculations.*"
   ]
  },
  {
   "cell_type": "markdown",
   "metadata": {},
   "source": [
    "**Solution**:"
   ]
  },
  {
   "cell_type": "markdown",
   "metadata": {},
   "source": [
    "<div class=\"answer-separator\">\n",
    "------------------------\n",
    "</div>"
   ]
  },
  {
   "cell_type": "markdown",
   "metadata": {},
   "source": [
    "<h4>1.1. In the unfortunate event that your partner tests positive what is the probability that he/she has HIV?</h4>"
   ]
  },
  {
   "cell_type": "markdown",
   "metadata": {},
   "source": [
    "<div class=\"answer\">\n",
    "<br>\n",
    "Using Bayes' Theorem, we can write (where $X$ is the event that my partner has HIV, and $A$ is the event that the test returns positive):\n",
    "\n",
    "$$P(X|A) = \\frac{P(A|X)P(X)}{P(A)}$$\n",
    "\n",
    "The sensitivity is $P(A|X) = 0.866$, the prior probability of HIV is $P(X) = 0.003$, and the probability of a positive test result is $P(A) = P(A|X)P(X) + P(A|X^c)P(X^c) = (0.866)(0.003) + (0.014)(0.997)$. Thus, we have\n",
    "\n",
    "$$P(X|A) = \\frac{(0.866)(0.003)}{(0.866)(0.003) + (0.014)(0.997)} = \\boxed{0.157}$$\n",
    "<br>\n",
    "</div>"
   ]
  },
  {
   "cell_type": "markdown",
   "metadata": {},
   "source": [
    "<div class=\"answer-separator\">\n",
    "------------------------\n",
    "</div>"
   ]
  },
  {
   "cell_type": "markdown",
   "metadata": {},
   "source": [
    "<h4>1.2. Should you be concerned enough to ask for further testing or treatment for your partner?  Justify your answer quantitatively.</h4>"
   ]
  },
  {
   "cell_type": "markdown",
   "metadata": {},
   "source": [
    "<div class=\"answer\">\n",
    "\n",
    "<br>\n",
    "I would be concerned enough to ask for further testing - there is about a 1 in 6 chance of HIV, which is significant, though perhaps not significant enough to immediately get treatment without further confirmation.\n",
    "<br>\n",
    "\n",
    "</div>"
   ]
  },
  {
   "cell_type": "markdown",
   "metadata": {},
   "source": [
    "<div class=\"answer-separator\">\n",
    "------------------------\n",
    "</div>"
   ]
  },
  {
   "cell_type": "markdown",
   "metadata": {},
   "source": [
    "<h4>1.3. The medical staff at the screening clinic decides to independently administer the BRT as it is the only other test they can administer on site.  Based on the UCSF study above, you're aware that this test has a sensitivity (true positive rate) of 91.9% and a specificity of 99.6%.  What is the probability that your partner has the HIV if both tests come up positive (Make the assumption that the independent administration means that the tests are independent of each other)?</h4>"
   ]
  },
  {
   "cell_type": "markdown",
   "metadata": {},
   "source": [
    "<div class=\"answer\">\n",
    "\n",
    "<br>\n",
    "Let $B$ be the event that the BRT is positive. First, we can write by (conditional) independence that\n",
    "\n",
    "$$P(X|A\\cap B) = \\frac{P(A\\cap B | X)P(X)}{P(A\\cap B)} = \\frac{P(A|X)P(B|X)P(X)}{P(A\\cap B)}$$\n",
    "\n",
    "We know that $P(A|X) = 0.866$, $P(B|X) = 0.919$, $P(X) = 0.003$, and (by conditional independence) that $P(A\\cap B) = P(A|X)P(B|X)P(X) + P(A|X^c)P(B|X^c)P(X^c) = (0.866)(0.919)(0.003) + (0.014)(0.004)(0.997)$. This gives us\n",
    "\n",
    "$$P(X|A\\cap B) = \\frac{(0.866)(0.919)(0.003)}{(0.866)(0.919)(0.003) + (0.014)(0.004)(0.997)} = \\boxed{0.977}$$\n",
    "<br>\n",
    "\n",
    "\n",
    "\n",
    "\n",
    "</div>"
   ]
  },
  {
   "cell_type": "markdown",
   "metadata": {},
   "source": [
    "<div class=\"answer-separator\">\n",
    "------------------------\n",
    "</div>"
   ]
  },
  {
   "cell_type": "markdown",
   "metadata": {},
   "source": [
    "<h4>1.4. What is the probability that your Bahamian partner has HIV given that he/she received a positive test result on the SRT?</h4>"
   ]
  },
  {
   "cell_type": "markdown",
   "metadata": {},
   "source": [
    "<div class=\"answer\">\n",
    "\n",
    "<br>\n",
    "Similar to part 1.1, we can write (where $C$ is the event that my partner is Bahamian)\n",
    "\n",
    "$$P(X|A, C) = \\frac{P(A|X, C)P(X|C)}{P(A|C)}$$\n",
    "\n",
    "Note that $P(A|X,C) = P(A|X) = 0.866$, $P(X|C) = 0.033$, and $P(A|C) = P(A|X)P(X|C) + P(A|X^c)P(X^c|C) = (0.866)(0.033) + (0.014)(0.967)$. This gives us\n",
    "\n",
    "$$P(X|A,C) = \\frac{(0.866)(0.033)}{(0.866)(0.033) + (0.014)(0.967)} = \\boxed{0.679}$$\n",
    "<br>\n",
    "\n",
    "</div>"
   ]
  },
  {
   "cell_type": "markdown",
   "metadata": {},
   "source": [
    "<div class=\"answer-separator\">\n",
    "------------------------\n",
    "</div>"
   ]
  },
  {
   "cell_type": "markdown",
   "metadata": {},
   "source": [
    "<h4>1.5. How does the new information quantifiably affect your decision of whether you should  be concerned enough to ask for treatment or testing for your partner?</h4>"
   ]
  },
  {
   "cell_type": "markdown",
   "metadata": {},
   "source": [
    "<div class=\"answer\">\n",
    "\n",
    "<br>\n",
    "Now, we should be highly concerned, and definitely ask for further treatment as soon as possible. The chance of HIV has quadrupled to more than a 2/3 chance, which is extremely significant.\n",
    "<br>\n",
    "\n",
    "</div>"
   ]
  },
  {
   "cell_type": "markdown",
   "metadata": {},
   "source": [
    "<div class=\"answer-separator\">\n",
    "------------------------\n",
    "</div>"
   ]
  },
  {
   "cell_type": "markdown",
   "metadata": {},
   "source": [
    "## Question 2: Visualize Yourself Missing Your Data\n",
    "\n",
    "**Some Coding required**\n",
    "\n",
    "Missing data is a very important topic in statistics and machine learning and we may touch upon it a few times throughout the course. Let us begin to explore how to handle missing data in our analysis.  We'll be working with a dataset from the UCI Machine Learning Repository that uses a variety of wine chemical predictors to classify wines grown in the same region in Italy.  Each line represents 13 (mostly chemical) predictors of the response variable wine class, including things like alcohol content, hue, and phenols.  Unfortunately some of the predictor values were lost in measurement.  You'll find the dataset in a file called `wine_quality_missing.csv`.\n",
    "\n",
    "2.1. Read the data in the `wine_quality_missing.csv` into a pandas dataframe and store the dataframe in the variable `wine_df`.  How many observations are in the dataset?  \n",
    "\n",
    "2.2. One way to handle missing data is to just totally ignore it by removing any rows that have any missing values.  This is called *drop imputation*.  Use drop imputation on our wine quality dataframe and store the resulting dataframe in the variable `wine_drop`.  How many observations does the drop imputed dataset have?\n",
    "\n",
    "2.3. Visualize using a normed histogram the values of Ash predictor in the drop imputed dataframe.  Overlay a fitted normal distribution on your plot.  Make sure to title the plot, include a legend and label axes.\n",
    "\n",
    "2.4. What are the mean and standard deviation of the values of the Ash feature in your drop imputed dataset?\n",
    "\n",
    "2.5. Another way to handle missing data is to replace any missing value with the mean of the non-missing values in that *column*.  This is called *mean imputation*.  How many rows does our mean imputed dataset have?\n",
    "\n",
    "2.6. Visualize using a normed histogram the values of Ash predictor in the mean imputed dataframe.  Overlay a fitted normal distribution on your plot.  Make sure to title the plot, include a legend and label axes.\n",
    "\n",
    "2.7. What are the mean and standard deviation of the Ash predictor values in your mean imputed dataset?  How do they compare to the mean and standard deviation of the drop imputed dataset?\n"
   ]
  },
  {
   "cell_type": "code",
   "execution_count": 35,
   "metadata": {},
   "outputs": [
    {
     "data": {
      "text/html": [
       "<div>\n",
       "<style scoped>\n",
       "    .dataframe tbody tr th:only-of-type {\n",
       "        vertical-align: middle;\n",
       "    }\n",
       "\n",
       "    .dataframe tbody tr th {\n",
       "        vertical-align: top;\n",
       "    }\n",
       "\n",
       "    .dataframe thead th {\n",
       "        text-align: right;\n",
       "    }\n",
       "</style>\n",
       "<table border=\"1\" class=\"dataframe\">\n",
       "  <thead>\n",
       "    <tr style=\"text-align: right;\">\n",
       "      <th></th>\n",
       "      <th>Alcohol</th>\n",
       "      <th>Malic acid</th>\n",
       "      <th>Ash</th>\n",
       "      <th>Alcalinity of ash</th>\n",
       "      <th>Magnesium</th>\n",
       "      <th>Total phenols</th>\n",
       "      <th>Flavanoids</th>\n",
       "      <th>Nonflavanoid phenols</th>\n",
       "      <th>Proanthocyanins</th>\n",
       "      <th>Color intensity</th>\n",
       "      <th>Hue</th>\n",
       "      <th>OD280/OD315 of diluted wines</th>\n",
       "      <th>Proline</th>\n",
       "      <th>Class</th>\n",
       "    </tr>\n",
       "  </thead>\n",
       "  <tbody>\n",
       "    <tr>\n",
       "      <th>0</th>\n",
       "      <td>14.23</td>\n",
       "      <td>1.71</td>\n",
       "      <td>2.43</td>\n",
       "      <td>15.6</td>\n",
       "      <td>127.0</td>\n",
       "      <td>2.80</td>\n",
       "      <td>3.06</td>\n",
       "      <td>0.28</td>\n",
       "      <td>2.29</td>\n",
       "      <td>5.64</td>\n",
       "      <td>1.04</td>\n",
       "      <td>3.92</td>\n",
       "      <td>1065.0</td>\n",
       "      <td>1</td>\n",
       "    </tr>\n",
       "    <tr>\n",
       "      <th>1</th>\n",
       "      <td>13.20</td>\n",
       "      <td>1.78</td>\n",
       "      <td>2.14</td>\n",
       "      <td>NaN</td>\n",
       "      <td>100.0</td>\n",
       "      <td>2.65</td>\n",
       "      <td>2.76</td>\n",
       "      <td>0.26</td>\n",
       "      <td>1.28</td>\n",
       "      <td>4.38</td>\n",
       "      <td>1.05</td>\n",
       "      <td>3.40</td>\n",
       "      <td>1050.0</td>\n",
       "      <td>1</td>\n",
       "    </tr>\n",
       "    <tr>\n",
       "      <th>2</th>\n",
       "      <td>13.16</td>\n",
       "      <td>2.36</td>\n",
       "      <td>2.67</td>\n",
       "      <td>18.6</td>\n",
       "      <td>101.0</td>\n",
       "      <td>2.80</td>\n",
       "      <td>3.24</td>\n",
       "      <td>0.30</td>\n",
       "      <td>2.81</td>\n",
       "      <td>5.68</td>\n",
       "      <td>1.03</td>\n",
       "      <td>3.17</td>\n",
       "      <td>1185.0</td>\n",
       "      <td>1</td>\n",
       "    </tr>\n",
       "    <tr>\n",
       "      <th>3</th>\n",
       "      <td>14.37</td>\n",
       "      <td>1.95</td>\n",
       "      <td>2.50</td>\n",
       "      <td>NaN</td>\n",
       "      <td>113.0</td>\n",
       "      <td>3.85</td>\n",
       "      <td>3.49</td>\n",
       "      <td>0.24</td>\n",
       "      <td>2.18</td>\n",
       "      <td>7.80</td>\n",
       "      <td>0.86</td>\n",
       "      <td>3.45</td>\n",
       "      <td>1480.0</td>\n",
       "      <td>1</td>\n",
       "    </tr>\n",
       "    <tr>\n",
       "      <th>4</th>\n",
       "      <td>13.24</td>\n",
       "      <td>2.59</td>\n",
       "      <td>2.87</td>\n",
       "      <td>21.0</td>\n",
       "      <td>118.0</td>\n",
       "      <td>2.80</td>\n",
       "      <td>2.69</td>\n",
       "      <td>0.39</td>\n",
       "      <td>NaN</td>\n",
       "      <td>4.32</td>\n",
       "      <td>1.04</td>\n",
       "      <td>2.93</td>\n",
       "      <td>735.0</td>\n",
       "      <td>1</td>\n",
       "    </tr>\n",
       "  </tbody>\n",
       "</table>\n",
       "</div>"
      ],
      "text/plain": [
       "   Alcohol  Malic acid   Ash  Alcalinity of ash  Magnesium  Total phenols  \\\n",
       "0    14.23        1.71  2.43               15.6      127.0           2.80   \n",
       "1    13.20        1.78  2.14                NaN      100.0           2.65   \n",
       "2    13.16        2.36  2.67               18.6      101.0           2.80   \n",
       "3    14.37        1.95  2.50                NaN      113.0           3.85   \n",
       "4    13.24        2.59  2.87               21.0      118.0           2.80   \n",
       "\n",
       "   Flavanoids  Nonflavanoid phenols  Proanthocyanins  Color intensity   Hue  \\\n",
       "0        3.06                  0.28             2.29             5.64  1.04   \n",
       "1        2.76                  0.26             1.28             4.38  1.05   \n",
       "2        3.24                  0.30             2.81             5.68  1.03   \n",
       "3        3.49                  0.24             2.18             7.80  0.86   \n",
       "4        2.69                  0.39              NaN             4.32  1.04   \n",
       "\n",
       "   OD280/OD315 of diluted wines  Proline  Class  \n",
       "0                          3.92   1065.0      1  \n",
       "1                          3.40   1050.0      1  \n",
       "2                          3.17   1185.0      1  \n",
       "3                          3.45   1480.0      1  \n",
       "4                          2.93    735.0      1  "
      ]
     },
     "metadata": {},
     "output_type": "display_data"
    },
    {
     "name": "stdout",
     "output_type": "stream",
     "text": [
      "The number of observations in the dataset is 178\n"
     ]
    }
   ],
   "source": [
    "# 2.1\n",
    "wine_df = pd.read_csv('wine_quality_missing.csv')\n",
    "display(wine_df.head())\n",
    "print(\"The number of observations in the dataset is \" + str(len(wine_df)))"
   ]
  },
  {
   "cell_type": "code",
   "execution_count": 36,
   "metadata": {},
   "outputs": [
    {
     "name": "stdout",
     "output_type": "stream",
     "text": [
      "The number of observations in the drop imputed dataset is 43\n"
     ]
    }
   ],
   "source": [
    "# 2.2\n",
    "wine_drop = wine_df.dropna()\n",
    "print(\"The number of observations in the drop imputed dataset is \" + str(len(wine_drop)))"
   ]
  },
  {
   "cell_type": "code",
   "execution_count": 37,
   "metadata": {},
   "outputs": [
    {
     "data": {
      "text/plain": [
       "<matplotlib.legend.Legend at 0x1a1c264710>"
      ]
     },
     "execution_count": 37,
     "metadata": {},
     "output_type": "execute_result"
    },
    {
     "data": {
      "image/png": "[encoded data removed]",
      "text/plain": [
       "<Figure size 432x288 with 1 Axes>"
      ]
     },
     "metadata": {},
     "output_type": "display_data"
    }
   ],
   "source": [
    "# 2.3\n",
    "wine_drop_ash = wine_drop['Ash']\n",
    "wine_drop_ash_mean = np.mean(wine_drop_ash)\n",
    "# n-1 or n????\n",
    "wine_drop_ash_std = np.std(wine_drop_ash)\n",
    "\n",
    "x_range = np.linspace(wine_drop_ash.min(), wine_drop_ash.max(), 1000)\n",
    "plt.hist(wine_drop_ash, density=True, bins=30)\n",
    "plt.plot(x_range, scipy.stats.norm.pdf(x_range, wine_drop_ash_mean, wine_drop_ash_std))\n",
    "plt.title(\"Probability Density of the Ash predictor of Wines (drop imputed)\")\n",
    "plt.xlabel(\"Ash\")\n",
    "plt.ylabel(\"Probability Density\")\n",
    "plt.legend([\"Fitted Normal Distribution\", \"Normed Histogram\"])"
   ]
  },
  {
   "cell_type": "code",
   "execution_count": 43,
   "metadata": {},
   "outputs": [
    {
     "name": "stdout",
     "output_type": "stream",
     "text": [
      "The mean of the ash values of the drop imputed dataset is 2.37\n",
      "The standard deviation of the ash values of the drop imputed dataset is 0.3\n"
     ]
    }
   ],
   "source": [
    "# 2.4\n",
    "print(\"The mean of the ash values of the drop imputed dataset is \" + str(round(wine_drop_ash_mean, 2)))\n",
    "print(\"The standard deviation of the ash values of the drop imputed dataset is \" + str(round(wine_drop_ash_std, 2)))"
   ]
  },
  {
   "cell_type": "code",
   "execution_count": 45,
   "metadata": {},
   "outputs": [
    {
     "name": "stdout",
     "output_type": "stream",
     "text": [
      "The number of observations in the mean imputed dataset is 178\n"
     ]
    }
   ],
   "source": [
    "# 2.5\n",
    "wine_fill = wine_df['Ash'].fillna(wine_ash_drop_mean)\n",
    "print(\"The number of observations in the mean imputed dataset is \" + str(len(wine_fill)))"
   ]
  },
  {
   "cell_type": "code",
   "execution_count": 47,
   "metadata": {},
   "outputs": [
    {
     "data": {
      "text/plain": [
       "<matplotlib.legend.Legend at 0x1a1be49b00>"
      ]
     },
     "execution_count": 47,
     "metadata": {},
     "output_type": "execute_result"
    },
    {
     "data": {
      "image/png": "[encoded data removed]",
      "text/plain": [
       "<Figure size 432x288 with 1 Axes>"
      ]
     },
     "metadata": {},
     "output_type": "display_data"
    }
   ],
   "source": [
    "# 2.6\n",
    "wine_fill_mean = np.mean(wine_fill)\n",
    "wine_fill_std = np.std(wine_fill)\n",
    "x_range = np.linspace(wine_fill.min(), wine_fill.max(), 1000)\n",
    "plt.hist(wine_fill, density=True, bins=30)\n",
    "plt.plot(x_range, scipy.stats.norm.pdf(x_range, wine_fill_mean, wine_fill_std))\n",
    "plt.title(\"Probability Density of the Ash predictor of Wines (mean imputed)\")\n",
    "plt.xlabel(\"Ash\")\n",
    "plt.ylabel(\"Probability Density\")\n",
    "plt.legend([\"Fitted Normal Distribution\", \"Normed Histogram\"])"
   ]
  },
  {
   "cell_type": "code",
   "execution_count": 49,
   "metadata": {},
   "outputs": [
    {
     "name": "stdout",
     "output_type": "stream",
     "text": [
      "The mean of the ash values of the mean imputed dataset is 2.37\n",
      "The standard deviation of the ash values of the mean imputed dataset is 0.26\n"
     ]
    }
   ],
   "source": [
    "# 2.7\n",
    "print(\"The mean of the ash values of the mean imputed dataset is \" + str(round(wine_ash_fill_mean, 2)))\n",
    "print(\"The standard deviation of the ash values of the mean imputed dataset is \" + str(round(wine_ash_fill_std, 2)))"
   ]
  },
  {
   "cell_type": "markdown",
   "metadata": {},
   "source": [
    "## Part 3: Walk Softly and Carry a Broken Stick  \n",
    "\n",
    "**Some Coding required**\n",
    "\n",
    "3.1  A well-known probability problem, the **Broken Stick Problem** can be formulated as follows. *A stick is broken up at two points, chosen at random along its\n",
    "length. Show that the probability that the pieces obtained form a triangle is 1/4.*  Write a function `simulate_broken_stick` that runs takes an integer parameter `n_sims`, runs that many simulations of the broken stick problem and returns a floating point number representing an estimate of the probability that the pieces of a stick randomly broken in two places form a triangle.  \n",
    "\n",
    "**Hints**:\n",
    "\n",
    "1. Use either np.random.rand or scipy.stats.uniform.rvs to simulate stick-breaking\n",
    "2. Think about the triangle inequality\n",
    "\n",
    "3.2 Run your function `simulate_broken_stick` with `n_sims` set to be equal to 50 and 1000.  What are your two estimates of the solution to the broken stick problem?\n",
    "\n",
    "3.3 (Optional) Provide an analytic proof of the **Broken Stick Problem**.\n",
    "\n",
    "**Hints**:\n",
    "\n",
    "1. There's a very nice geometric proof taking advantage of [Viviani's Theorem][1].  Argue that every point in the equilateral triangle with height equal to the length of the stick maps to a particular breaking of the stick.  Divide the equilateral triangle into subtriangles by joining the midpoints.  What does it mean for a point to be outside the central equilateral subtriangle?\n",
    "2. There's a more straightforward proof treating the breaking of the stick as joint uniform random variables.  What conditions does the triangle inequality impose on the joint random variable? How do you calculate the probability that the joint uniform meets those conditions? \n",
    "\n",
    "[1]: https://en.wikipedia.org/wiki/Viviani%27s_theorem"
   ]
  },
  {
   "cell_type": "markdown",
   "metadata": {},
   "source": [
    "**Solution**:"
   ]
  },
  {
   "cell_type": "markdown",
   "metadata": {},
   "source": [
    "<h4> 3.1  A well-known probability problem, the **Broken Stick Problem** can be formulated as follows. *A stick is broken up at two points, chosen at random along its\n",
    "length. Show that the probability that the pieces obtained form a triangle is 1/4.*  Write a function `simulate_broken_stick` that runs takes an integer parameter `n_sims`, runs that many simulations of the broken stick problem and returns a floating point number representing an estimate of the probability that the pieces of a stick randomly broken in two places form a triangle.</h4>"
   ]
  },
  {
   "cell_type": "code",
   "execution_count": 10,
   "metadata": {},
   "outputs": [
    {
     "data": {
      "text/plain": [
       "0.2499"
      ]
     },
     "execution_count": 10,
     "metadata": {},
     "output_type": "execute_result"
    }
   ],
   "source": [
    "def simulate_broken_stick(n_sims=500):\n",
    "    \n",
    "    # define your probability estimate and initialize it to 0\n",
    "    probability_estimate = 0\n",
    "    \n",
    "    # run your simulation and calculate probability_estimate\n",
    "    num_successes = 0\n",
    "    for i in range(n_sims):\n",
    "        x, y = np.random.uniform(0, 1, 2)\n",
    "        a = min(x, y)\n",
    "        b = max(x, y)\n",
    "        side1 = a\n",
    "        side2 = b - a\n",
    "        side3 = 1 - b\n",
    "        if side1 + side2 > side3 and side2 + side3 > side1 and side1 + side3 > side2:\n",
    "            num_successes += 1\n",
    "    \n",
    "    probability_estimate = float(num_successes/n_sims)\n",
    "    \n",
    "    return probability_estimate\n",
    "simulate_broken_stick(10000)"
   ]
  },
  {
   "cell_type": "markdown",
   "metadata": {},
   "source": [
    "<h4>3.2 Run your function `simulate_broken_stick` with `n_sims` set to be equal to 50 and 1000.  What are your two estimates of the solution to the broken stick problem?</h4>"
   ]
  },
  {
   "cell_type": "code",
   "execution_count": 11,
   "metadata": {},
   "outputs": [],
   "source": [
    "estimate_50 = simulate_broken_stick(n_sims=50)  # calculate estimate for 50 simulations\n",
    "estimate_1000 = simulate_broken_stick(n_sims=1000)  # calculate estimate for 1000 simulations"
   ]
  },
  {
   "cell_type": "code",
   "execution_count": 12,
   "metadata": {},
   "outputs": [
    {
     "data": {
      "text/plain": [
       "0.32"
      ]
     },
     "metadata": {},
     "output_type": "display_data"
    },
    {
     "data": {
      "text/plain": [
       "0.261"
      ]
     },
     "metadata": {},
     "output_type": "display_data"
    }
   ],
   "source": [
    "## Make sure you present your answers somewhere here\n",
    "display(estimate_50)\n",
    "display(estimate_1000)"
   ]
  },
  {
   "cell_type": "markdown",
   "metadata": {},
   "source": [
    "<h4>3.3 (Optional) Provide an analytic proof of the **Broken Stick Problem**.</h4>"
   ]
  },
  {
   "cell_type": "markdown",
   "metadata": {},
   "source": [
    "<div class=\"answer\">\n",
    "\n",
    "<br>\n",
    "If we wrapped the stick around into a circle by connecting its endpoints, then the broken segments form a triangle if and only if the two break points and the endpoints of the stick cannot be contained in the same semicircle. To see this, if they all lie in the same semicircle, then the opposing semicircle corresponds to a broken segment of length at least 1/2, which must be greater than the sum of the other two broken segments. If the endpoints (which are combined in one point in the circle) and the two break points can form a triangle, then notice that each segment has length $\\le 1/2$, and any pair of segments add to a combined length of $\\ge 1/2$. This means that any semicircle cannot contain all three points, because to do so it would have to contain two entire segments.\n",
    "\n",
    "Thus, the probability of the broken segments forming a triangle is equal to the probability that three randomly chosen points on a circle cannot be contained in the same semicircle. \n",
    "\n",
    "Consider the event that all three points do lie on the same semicircle. This is true if and only if they all lie on a semicircle with the clockwise endpoint at exactly one of the three points - to see the forward direction, any semicircle containing the three points can be rotated counterclockwise until its clockwise endpoint reaches a point. Further rotating until the clockwise endpoint is at the second point will cause the semicircle to no longer contain the first point, since the total rotation must be less than $\\pi$. Similarly, the total rotation from the second to the third point must be less than $\\pi$, and so the semicircle with the clockwise end at the third point cannot contain the second point. Thus, the three events that the semicircle with the clockwise endpoint at each of the three points contains all three points are mutually exclusive. Notice that each of these events has probability 1/4: given a semicircle starting at one point, the probability that each of the other two points lies in the semicircle is 1/2. Thus, the probability that any one of these semicircles contains all three points is $1/4 + 1/4 + 1/4 = 3/4$, which is also the probability that all three points lies in the same semicircle. We conclude that the probability that the broken segments can form a triangle is $1-3/4 = 1/4$.\n",
    "<br>\n",
    "\n",
    "</div>"
   ]
  }
 ],
 "metadata": {
  "anaconda-cloud": {},
  "kernel_info": {
   "name": "python3"
  },
  "kernelspec": {
   "display_name": "Python 3",
   "language": "python",
   "name": "python3"
  },
  "language_info": {
   "codemirror_mode": {
    "name": "ipython",
    "version": 3
   },
   "file_extension": ".py",
   "mimetype": "text/x-python",
   "name": "python",
   "nbconvert_exporter": "python",
   "pygments_lexer": "ipython3",
   "version": "3.5.2"
  },
  "nteract": {
   "version": "0.10.0"
  }
 },
 "nbformat": 4,
 "nbformat_minor": 2
}
