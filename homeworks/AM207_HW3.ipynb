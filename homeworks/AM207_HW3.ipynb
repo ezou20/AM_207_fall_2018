{
 "cells": [
  {
   "cell_type": "markdown",
   "metadata": {},
   "source": [
    "# Homework 3\n",
    "\n",
    "### Chris En and Ethan Zou\n",
    "#### Collaborated with Doug Smith and Jenny Huang\n",
    "\n",
    "##### Data: Homework_3_Data.txt, housedata.zip\n",
    "\n",
    "**Harvard University**<br>\n",
    "**Fall 2018**<br>\n",
    "**Instructors: Rahul Dave**<br>\n",
    "**Due Date: ** Saturday, September 29th, 2018 at 11:59pm\n",
    "\n",
    "**Instructions:**\n",
    "\n",
    "- Upload your final answers in the form of a Jupyter notebook containing all work to Canvas.\n",
    "\n",
    "- Structure your notebook and your work to maximize readability."
   ]
  },
  {
   "cell_type": "code",
   "execution_count": 1,
   "metadata": {},
   "outputs": [],
   "source": [
    "import numpy as np\n",
    "import scipy.stats\n",
    "import scipy.special\n",
    "\n",
    "import matplotlib\n",
    "import matplotlib.pyplot as plt\n",
    "import matplotlib.mlab as mlab\n",
    "from matplotlib import cm\n",
    "import pandas as pd\n",
    "%matplotlib inline"
   ]
  },
  {
   "cell_type": "markdown",
   "metadata": {},
   "source": [
    "## Question 1: When have no confidence that you can lift yourself by the Bootstrap?\n",
    "\n",
    "**Coding required**\n",
    "\n",
    "The idea behind non-parametric bootstrapping is that sampling distributions constructed via the true data generating process should be very close to sampling distributions constructed by resampling.  We mentioned in lab that one edge cases for bootstrapping is calculating order statistics.  Let's explore this edgecase.\n",
    "\n",
    "1.1. Suppose you have $\\{X_1, X_2, ... X_n\\}$ datapoints such that $X_i$ are independently and identically drawn from a $Unif(0, \\theta)$.  Consider the extreme order statistic Y = $X_{(n)}$ = max($X_1, X_2, ... X_n$). Write an expression for the distribution $f_Y(Y|\\theta)$.\n",
    "\n",
    "1.2. Derive $\\hat{\\theta}$ the maximum likelihood estimate for $\\theta$ given datapoints $\\{X_1, X_2, ... X_n\\}$.\n",
    "\n",
    "1.3. To see an alternate potential estimator use the distribution you derived in 1.1. to find an expression for the unbiased estimate of  theta.\n",
    "\n",
    "1.4. Use scipy/numpy to generate 100 samples {$X_i$} from Unif(0,1) (i.e. let $\\theta$ = 1) and store them in the variable `original_xi_samples`.  Based on your data sample, what's the empirical estimate for $\\theta$.\n",
    "\n",
    "1.6. Use non-parametric bootstrap to generate a sampling distribution of 1000 estimates for theta.  Plot a histogram of your sampling distribution.  Make sure to title and label the plot.  \n",
    "\n",
    "1.7. Is your histogram smooth?  From visual inspection does it seem like a good representation of a sampling distribution?\n",
    "\n",
    "1.8. So far we've used a \"natural\" version of calculating bootstrap confidence intervals -- the percentile method.  In this situation is it possible for the \"true\" value of $\\theta$ to be in the confidence interval?  In order to remedy this we'll use a alternate confidence interval version called the pivot confidence interval.  The pivot confidence interval is defined as [$2\\hat{\\theta} -\\hat{\\theta}^*_{(0.975)},2\\hat{\\theta} -\\hat{\\theta}^*_{(0.025)}$].  Is the true value contained in this interval?\n"
   ]
  },
  {
   "cell_type": "markdown",
   "metadata": {},
   "source": [
    "<div class=\"answer-separator\">\n",
    "------------------------\n",
    "</div>"
   ]
  },
  {
   "cell_type": "markdown",
   "metadata": {},
   "source": [
    "### Question 1 - SOLUTIONS"
   ]
  },
  {
   "cell_type": "markdown",
   "metadata": {},
   "source": [
    "###### 1.1. Suppose you have $\\{X_1, X_2, ... X_n\\}$ datapoints such that $X_i$ are independently and identically drawn from a $Unif(0, \\theta)$.  Consider the extreme order statistic Y = $X_{(n)}$ = max($X_1, X_2, ... X_n$). Write an expression for the distribution $f_Y(Y|\\theta)$."
   ]
  },
  {
   "cell_type": "markdown",
   "metadata": {},
   "source": [
    "We'll first find the cumulative distribution function of the extreme order statistic $Y = X_{(n)}$:\n",
    "$$F_y(y | \\theta) = P(Y \\leq y | \\theta) = \\prod_{i=1}^n P(X_i \\leq y|\\theta) = \\left(\\frac{y}{\\theta} \\right)^n $$\n",
    "Now, to find the PDF, $f_{Y}(Y|\\theta)$, we take the derivative of the CDF with respect to $y$. This gives\n",
    "$$f_{Y}(Y|\\theta) = \\frac{d}{dy}F_y(y|\\theta) = \\boxed{\\frac{ny^{n-1}}{\\theta^n}}$$"
   ]
  },
  {
   "cell_type": "markdown",
   "metadata": {},
   "source": [
    "###### 1.2. Derive $\\hat{\\theta}$ the maximum likelihood estimate for $\\theta$ given datapoints $\\{X_1, X_2, ... X_n\\}$."
   ]
  },
  {
   "cell_type": "markdown",
   "metadata": {},
   "source": [
    "We first calculate the likelihood $L(\\theta|data)$ of the data:\n",
    "$$L(\\theta|data) = \\prod_{i=1}^nf_Y(X_i|\\theta) = \\frac{1}{\\theta^n}$$\n",
    "Now, we graph the log likelihood, $\\log L(\\theta|data) = -n\\log \\theta$ below."
   ]
  },
  {
   "cell_type": "code",
   "execution_count": 46,
   "metadata": {},
   "outputs": [
    {
     "data": {
      "text/plain": [
       "[<matplotlib.lines.Line2D at 0x1a1947c2b0>]"
      ]
     },
     "execution_count": 46,
     "metadata": {},
     "output_type": "execute_result"
    },
    {
     "data": {
      "image/png": "[encoded data removed]",
      "text/plain": [
       "<Figure size 432x288 with 1 Axes>"
      ]
     },
     "metadata": {},
     "output_type": "display_data"
    }
   ],
   "source": [
    "def func(theta):\n",
    "    return -5*np.log(theta)\n",
    "\n",
    "v = np.vectorize(func)\n",
    "\n",
    "x = np.arange(0.1,20,0.1)\n",
    "y = v(x)\n",
    "\n",
    "plt.xlabel(r'$\\theta$', fontsize=13)\n",
    "plt.ylabel(r'$-n\\log \\theta$', fontsize=13)\n",
    "plt.suptitle(r'Plot of log likelihood', fontsize=20)\n",
    "plt.plot(x,y,'-')"
   ]
  },
  {
   "cell_type": "markdown",
   "metadata": {},
   "source": [
    "The possible values for $\\theta$ lie in the range $[Y, \\infty]$ because $\\theta$ has to be at least the maximum $X_i$ by definition. Since the log likelihood is decreasing as shown in the graph above, we have the maximum likelihood estimator is $\\hat{\\theta} = X_{(n)}$"
   ]
  },
  {
   "cell_type": "markdown",
   "metadata": {},
   "source": [
    "###### 1.3. To see an alternate potential estimator use the distribution you derived in 1.1. to find an expression for the unbiased estimate of  theta.\n"
   ]
  },
  {
   "cell_type": "markdown",
   "metadata": {},
   "source": [
    "###### 1.4. Use scipy/numpy to generate 100 samples {$X_i$} from Unif(0,1) (i.e. let $\\theta$ = 1) and store them in the variable `original_xi_samples`.  Based on your data sample, what's the empirical estimate for $\\theta$."
   ]
  },
  {
   "cell_type": "code",
   "execution_count": 5,
   "metadata": {},
   "outputs": [
    {
     "data": {
      "text/plain": [
       "array([0.99560852, 0.17944783, 0.14247591, 0.51887588, 0.04294582,\n",
       "       0.28996809, 0.71651795, 0.18073406, 0.04815974, 0.47576639,\n",
       "       0.23322942, 0.37511137, 0.88246652, 0.32687517, 0.38285355,\n",
       "       0.65169171, 0.68790463, 0.98575993, 0.15683223, 0.04135637,\n",
       "       0.89443627, 0.07846577, 0.19540749, 0.48355688, 0.50139437,\n",
       "       0.78243443, 0.73811697, 0.77338215, 0.13212892, 0.59984897,\n",
       "       0.6289465 , 0.25888478, 0.72232359, 0.76932676, 0.39683728,\n",
       "       0.68054627, 0.23765789, 0.63338478, 0.89271461, 0.51002937,\n",
       "       0.23354953, 0.67888748, 0.03259604, 0.42398959, 0.6657264 ,\n",
       "       0.49770098, 0.41378795, 0.18406774, 0.65834473, 0.58796917,\n",
       "       0.15969404, 0.38123318, 0.76185052, 0.12605696, 0.161289  ,\n",
       "       0.26308191, 0.32573124, 0.22606947, 0.08331844, 0.79048292,\n",
       "       0.90672199, 0.49443355, 0.51409581, 0.61436532, 0.3897171 ,\n",
       "       0.46729167, 0.46439269, 0.30717042, 0.75021988, 0.06947346,\n",
       "       0.81380084, 0.64356851, 0.01626257, 0.90029989, 0.78560628,\n",
       "       0.56920354, 0.5263524 , 0.52609622, 0.98343944, 0.89904471,\n",
       "       0.98482167, 0.56930964, 0.47245252, 0.18102541, 0.15554471,\n",
       "       0.57901346, 0.33530904, 0.77611358, 0.34344921, 0.29736111,\n",
       "       0.54008485, 0.62703221, 0.44323245, 0.83772142, 0.6135965 ,\n",
       "       0.37903891, 0.38061635, 0.6059177 , 0.42232675, 0.54378177])"
      ]
     },
     "execution_count": 5,
     "metadata": {},
     "output_type": "execute_result"
    }
   ],
   "source": [
    "original_xi_samples = np.random.uniform(size=100)\n",
    "theta_estimate = np.max(original_xi_samples)\n",
    "original_xi_samples"
   ]
  },
  {
   "cell_type": "markdown",
   "metadata": {},
   "source": [
    "###### 1.6. Use non-parametric bootstrap to generate a sampling distribution of 1000 estimates for theta.  Plot a histogram of your sampling distribution.  Make sure to title and label the plot.  "
   ]
  },
  {
   "cell_type": "code",
   "execution_count": 20,
   "metadata": {},
   "outputs": [
    {
     "data": {
      "text/plain": [
       "Text(0.5,0.98,'Histogram of estimates of $\\\\theta$')"
      ]
     },
     "execution_count": 20,
     "metadata": {},
     "output_type": "execute_result"
    },
    {
     "data": {
      "image/png": "[encoded data removed]",
      "text/plain": [
       "<Figure size 432x288 with 1 Axes>"
      ]
     },
     "metadata": {},
     "output_type": "display_data"
    }
   ],
   "source": [
    "bootstrap_samples = np.random.choice(original_xi_samples, size=(1000, len(original_xi_samples)), replace=True)\n",
    "theta_estimates = np.max(bootstrap_samples, axis=1)\n",
    "#bootstrap_samples\n",
    "theta_estimates\n",
    "fig = plt.figure()\n",
    "plt.hist(theta_estimates, bins=50)\n",
    "plt.xlabel(r'$\\hat{\\theta}$')\n",
    "plt.ylabel(r'density')\n",
    "plt.suptitle(r'Histogram of estimates of $\\theta$')"
   ]
  },
  {
   "cell_type": "markdown",
   "metadata": {},
   "source": [
    "###### 1.7. Is your histogram smooth?  From visual inspection does it seem like a good representation of a sampling distribution?"
   ]
  },
  {
   "cell_type": "markdown",
   "metadata": {},
   "source": [
    "No, the histogram is not smooth. From inspecting the histogram visually, it seems like it is not a good representation of a sampling distribution because there are certain values of $\\hat{\\theta}$ that are not represented simply because we are using non-parametric bootstrap sampling which would limit our estimates to be values from the original sample of $x_i$'s."
   ]
  },
  {
   "cell_type": "markdown",
   "metadata": {},
   "source": [
    "###### 1.8. So far we've used a \"natural\" version of calculating bootstrap confidence intervals -- the percentile method.  In this situation is it possible for the \"true\" value of $\\theta$ to be in the confidence interval?  In order to remedy this we'll use a alternate confidence interval version called the pivot confidence interval.  The pivot confidence interval is defined as [$2\\hat{\\theta} -\\hat{\\theta}^*_{(0.975)},2\\hat{\\theta} -\\hat{\\theta}^*_{(0.025)}$].  Is the true value contained in this interval?"
   ]
  },
  {
   "cell_type": "markdown",
   "metadata": {},
   "source": [
    "It is possible, but EXTREMELY unlikely - you would have to draw a 1 (or $\\theta$) in every sample for every set of bootstrap sample in order for the true value of $\\theta$ to be in the confidence interval. "
   ]
  },
  {
   "cell_type": "code",
   "execution_count": 25,
   "metadata": {},
   "outputs": [
    {
     "data": {
      "text/plain": [
       "[0.9956085183113568, 1.0077775985213617]"
      ]
     },
     "execution_count": 25,
     "metadata": {},
     "output_type": "execute_result"
    }
   ],
   "source": [
    "conf_int = np.percentile(theta_estimates, [2.5, 97.5])\n",
    "pivot_int = [2*theta_estimate - conf_int[1], 2*theta_estimate - conf_int[0]]\n",
    "pivot_int"
   ]
  },
  {
   "cell_type": "markdown",
   "metadata": {},
   "source": [
    "Yes, the true value 1 is in the interval."
   ]
  },
  {
   "cell_type": "markdown",
   "metadata": {},
   "source": [
    "<div class=\"answer-separator\">\n",
    "------------------------\n",
    "</div>"
   ]
  },
  {
   "cell_type": "markdown",
   "metadata": {},
   "source": [
    "## Question 2: Visualize Your Poor Marginlized Conditional Love\n",
    "\n",
    "**Coding required**\n",
    "\n",
    "Read the data set contained in [Homework_3_Data.txt](Homework_3_Data.txt). Each data point is a two-dimensional vector, $\\mathbf{x} = (x_1, x_2)$.\n",
    "\n",
    "2.1. Make a 2-D visualization of the empirical distribution of the data. \n",
    "\n",
    "2.2. We assume that the data was generated by some probability distribution (pdf).  Visualize that pdf, $f_X$.\n",
    "\n",
    "2.3. Visualize the conditional distribution defined by $f_{x_2 \\mid x_1}$ for $x_1 \\in [3.99, 4.01]$.\n",
    "\n",
    "2.4. Visualize the mariginal distribution defined by $f_{x_1}$.\n",
    "\n",
    "2.5. Empirically estimate the mean of the distribution $f_{x_1}$. Estimate, also the SE (standard error) of the estimate.\n",
    "\n",
    "2.6. Empirically estimate the standard deviation of the distribution $f_{x_2 \\mid x_1}$, for $x_1 \\in [3.99, 4.01]$. Estimate, also the SE (standard error) of the estimate.\n",
    "\n",
    "2.7. Given the SE, How many digits in your standard deviation estimate are significant? Explain why.\n",
    "\n",
    "In obtaining estimates for this problem we want you to \n",
    "\n",
    "- define a function called *get_bootstrap_sample(dataset)* to generate each bootstrap sample\n",
    "- and then another function *perform_bootstrap(dataset)* to generate all the samples. \n",
    "\n",
    "They should both take as parameters the dataset from which you'll be drawing samples. *perform_bootstrap* should call *get_bootstrap_sample* and return a sequence of bootstrap samples.  *get_bootstrap_sample* should return an individual bootstrap sample.\n"
   ]
  },
  {
   "cell_type": "markdown",
   "metadata": {},
   "source": [
    "<div class=\"answer-separator\">\n",
    "------------------------\n",
    "</div>"
   ]
  },
  {
   "cell_type": "markdown",
   "metadata": {},
   "source": [
    "### Question 2 - SOLUTIONS"
   ]
  },
  {
   "cell_type": "markdown",
   "metadata": {},
   "source": [
    "###### 2.1. Make a 2-D visualization of the empirical distribution of the data. "
   ]
  },
  {
   "cell_type": "code",
   "execution_count": 37,
   "metadata": {},
   "outputs": [
    {
     "data": {
      "text/plain": [
       "Text(0,0.5,'x2')"
      ]
     },
     "execution_count": 37,
     "metadata": {},
     "output_type": "execute_result"
    },
    {
     "data": {
      "image/png": "[encoded data removed]",
      "text/plain": [
       "<Figure size 432x288 with 1 Axes>"
      ]
     },
     "metadata": {},
     "output_type": "display_data"
    }
   ],
   "source": [
    "df = pd.read_csv('Homework_3_Data.txt', header=None, names=['x1', 'x2'])\n",
    "#df.head()\n",
    "plt.hist2d(df['x1'], df['x2'], bins=30);\n",
    "plt.suptitle(\"2D Empirical Distribution of Homework 3 Data\")\n",
    "plt.xlabel('x1')\n",
    "plt.ylabel('x2')"
   ]
  },
  {
   "cell_type": "markdown",
   "metadata": {},
   "source": [
    "###### 2.2. We assume that the data was generated by some probability distribution (pdf).  Visualize that pdf, $f_X$."
   ]
  },
  {
   "cell_type": "code",
   "execution_count": 49,
   "metadata": {},
   "outputs": [
    {
     "data": {
      "image/png": "[encoded data removed]",
      "text/plain": [
       "<Figure size 432x288 with 1 Axes>"
      ]
     },
     "metadata": {},
     "output_type": "display_data"
    }
   ],
   "source": [
    "from mpl_toolkits.mplot3d import Axes3D\n",
    "\n",
    "# calculate mean and covariance matrix\n",
    "mean = np.mean(df, axis=0)\n",
    "cov = np.cov(df, rowvar=0)\n",
    "rv = scipy.stats.multivariate_normal(mean, cov)\n",
    "\n",
    "# Create grid and multivariate normal\n",
    "x = np.linspace(0, 8, 1000)\n",
    "y = np.linspace(0, 8, 1000)\n",
    "X, Y = np.meshgrid(x,y)\n",
    "p = np.empty(X.shape + (2,))\n",
    "p[:, :, 0] = X; p[:, :, 1] = Y\n",
    "\n",
    "# Make the plot\n",
    "fig = plt.figure()\n",
    "ax = fig.gca(projection='3d')\n",
    "ax.plot_surface(X, Y, rv.pdf(p), cmap='plasma', linewidth=0)\n",
    "ax.set_xlabel(r'$x_1$')\n",
    "ax.set_ylabel(r'$x_2$')\n",
    "ax.set_zlabel('density')\n",
    "plt.show()"
   ]
  },
  {
   "cell_type": "markdown",
   "metadata": {},
   "source": [
    "###### 2.3. Visualize the conditional distribution defined by $f_{x_2 \\mid x_1}$ for $x_1 \\in [3.99, 4.01]$."
   ]
  },
  {
   "cell_type": "code",
   "execution_count": 57,
   "metadata": {},
   "outputs": [
    {
     "data": {
      "text/html": [
       "<div>\n",
       "<style scoped>\n",
       "    .dataframe tbody tr th:only-of-type {\n",
       "        vertical-align: middle;\n",
       "    }\n",
       "\n",
       "    .dataframe tbody tr th {\n",
       "        vertical-align: top;\n",
       "    }\n",
       "\n",
       "    .dataframe thead th {\n",
       "        text-align: right;\n",
       "    }\n",
       "</style>\n",
       "<table border=\"1\" class=\"dataframe\">\n",
       "  <thead>\n",
       "    <tr style=\"text-align: right;\">\n",
       "      <th></th>\n",
       "      <th>x1</th>\n",
       "      <th>x2</th>\n",
       "    </tr>\n",
       "  </thead>\n",
       "  <tbody>\n",
       "    <tr>\n",
       "      <th>256</th>\n",
       "      <td>3.990329</td>\n",
       "      <td>4.673238</td>\n",
       "    </tr>\n",
       "    <tr>\n",
       "      <th>282</th>\n",
       "      <td>4.003357</td>\n",
       "      <td>5.643092</td>\n",
       "    </tr>\n",
       "    <tr>\n",
       "      <th>363</th>\n",
       "      <td>3.991815</td>\n",
       "      <td>5.693315</td>\n",
       "    </tr>\n",
       "    <tr>\n",
       "      <th>401</th>\n",
       "      <td>3.994541</td>\n",
       "      <td>4.445557</td>\n",
       "    </tr>\n",
       "    <tr>\n",
       "      <th>607</th>\n",
       "      <td>3.993356</td>\n",
       "      <td>5.397486</td>\n",
       "    </tr>\n",
       "  </tbody>\n",
       "</table>\n",
       "</div>"
      ],
      "text/plain": [
       "           x1        x2\n",
       "256  3.990329  4.673238\n",
       "282  4.003357  5.643092\n",
       "363  3.991815  5.693315\n",
       "401  3.994541  4.445557\n",
       "607  3.993356  5.397486"
      ]
     },
     "execution_count": 57,
     "metadata": {},
     "output_type": "execute_result"
    }
   ],
   "source": [
    "x1_near_4 = df[(3.99 <= df['x1']) & (df['x1'] <= 4.01)]\n",
    "x1_near_4.head()"
   ]
  },
  {
   "cell_type": "code",
   "execution_count": 65,
   "metadata": {},
   "outputs": [
    {
     "data": {
      "image/png": "[encoded data removed]",
      "text/plain": [
       "<Figure size 432x288 with 1 Axes>"
      ]
     },
     "metadata": {},
     "output_type": "display_data"
    }
   ],
   "source": [
    "fig = plt.figure()\n",
    "plt.hist(x1_near_4['x2'], bins=50, density=True)\n",
    "plt.xlabel(r'$x_2$')\n",
    "plt.ylabel(r'density')\n",
    "plt.suptitle(r'Conditional Distribution of $f_{x_2|x_1}$ for $x_1 \\in [3.99, 4.01]$');"
   ]
  },
  {
   "cell_type": "markdown",
   "metadata": {},
   "source": [
    "###### 2.4. Visualize the mariginal distribution defined by $f_{x_1}$."
   ]
  },
  {
   "cell_type": "code",
   "execution_count": 72,
   "metadata": {},
   "outputs": [
    {
     "data": {
      "image/png": "[encoded data removed]",
      "text/plain": [
       "<Figure size 432x288 with 1 Axes>"
      ]
     },
     "metadata": {},
     "output_type": "display_data"
    }
   ],
   "source": [
    "x1s = df['x1']\n",
    "fig = plt.figure()\n",
    "plt.hist(x1s, bins=50, density=True)\n",
    "plt.xlabel(r'$x_1$')\n",
    "plt.ylabel('density')\n",
    "plt.suptitle(r'Marginal Distribution of $f_{x_1}$');"
   ]
  },
  {
   "cell_type": "markdown",
   "metadata": {},
   "source": [
    "###### 2.5. Empirically estimate the mean of the distribution $f_{x_1}$. Estimate, also the SE (standard error) of the estimate."
   ]
  },
  {
   "cell_type": "code",
   "execution_count": 73,
   "metadata": {},
   "outputs": [
    {
     "data": {
      "text/plain": [
       "3.992763976722131"
      ]
     },
     "execution_count": 73,
     "metadata": {},
     "output_type": "execute_result"
    }
   ],
   "source": [
    "mean_x1 = np.mean(x1s)\n",
    "mean_x1"
   ]
  },
  {
   "cell_type": "code",
   "execution_count": 75,
   "metadata": {},
   "outputs": [
    {
     "data": {
      "text/plain": [
       "0.006977826304006362"
      ]
     },
     "execution_count": 75,
     "metadata": {},
     "output_type": "execute_result"
    }
   ],
   "source": [
    "boostrap_samples = np.random.choice(x1s, size=(10000, len(x1s)), replace=True)\n",
    "standard_error_mean = np.std(np.mean(boostrap_samples, axis=1))\n",
    "standard_error_mean"
   ]
  },
  {
   "cell_type": "markdown",
   "metadata": {},
   "source": [
    "###### 2.6. Empirically estimate the standard deviation of the distribution $f_{x_2 \\mid x_1}$, for $x_1 \\in [3.99, 4.01]$. Estimate, also the SE (standard error) of the estimate."
   ]
  },
  {
   "cell_type": "code",
   "execution_count": 76,
   "metadata": {},
   "outputs": [
    {
     "data": {
      "text/plain": [
       "5.022691371353652"
      ]
     },
     "execution_count": 76,
     "metadata": {},
     "output_type": "execute_result"
    }
   ],
   "source": [
    "mean_x2 = np.mean(x1_near_4['x2'])\n",
    "mean_x2"
   ]
  },
  {
   "cell_type": "code",
   "execution_count": 77,
   "metadata": {},
   "outputs": [
    {
     "data": {
      "text/plain": [
       "0.06983891973776442"
      ]
     },
     "execution_count": 77,
     "metadata": {},
     "output_type": "execute_result"
    }
   ],
   "source": [
    "boostrap_samples = np.random.choice(x1_near_4['x2'], size=(10000, len(x1_near_4['x2'])), replace=True)\n",
    "standard_error_mean = np.std(np.mean(boostrap_samples, axis=1))\n",
    "standard_error_mean"
   ]
  },
  {
   "cell_type": "markdown",
   "metadata": {},
   "source": [
    "<div class=\"answer-separator\">\n",
    "------------------------\n",
    "</div>"
   ]
  },
  {
   "cell_type": "markdown",
   "metadata": {},
   "source": [
    "## Question 3: Linear Regression\n",
    "\n",
    "Consider the following base Regression class, which roughly follows the API in the python package `scikit-learn`.\n",
    "\n",
    "Our model is the the multivariate linear model whose MLE solution or equivalent cost minimization was talked about in lecture:\n",
    "\n",
    "$$y = X\\beta + \\epsilon$$\n",
    "where $y$ is a length $n$ vector, $X$ is an $m \\times p$ matrix created by stacking the features for each data point, and $\\beta$ is a $p$ length vector of coefficients.\n",
    "\n",
    "The class showcases the API:\n",
    "\n",
    "$fit(X, y)$: Fits linear model to $X$ and $y$.\n",
    "\n",
    "$get\\_params()$: Returns $\\hat{\\beta}$ for the fitted model. The parameters should be stored in a dictionary with keys \"intercept\" and \"coef\" that give us $\\hat{\\beta_0}$ and $\\hat{\\beta_{1:}}$. (The second value here is thus a numpy array of coefficient values)\n",
    "\n",
    "$predict(X)$: Predict new values with the fitted model given $X$.\n",
    "\n",
    "$score(X, y)$: Returns $R^2$ value of the fitted model.\n",
    "\n",
    "$set\\_params()$: Manually set the parameters of the linear model.\n",
    "\n"
   ]
  },
  {
   "cell_type": "code",
   "execution_count": 52,
   "metadata": {},
   "outputs": [],
   "source": [
    "class Regression(object):\n",
    "    \n",
    "    def __init__(self):\n",
    "        self.params = dict()\n",
    "    \n",
    "    def get_params(self, k):\n",
    "        return self.params[k]\n",
    "    \n",
    "    def set_params(self, **kwargs):\n",
    "        for k,v in kwargs.items():\n",
    "            self.params[k] = v\n",
    "        \n",
    "    def fit(self, X, y):\n",
    "        raise NotImplementedError()\n",
    "        \n",
    "    def predict(self, X):\n",
    "        raise NotImplementedError()\n",
    "        \n",
    "    def score(self, X, y):\n",
    "        raise NotImplementedError()"
   ]
  },
  {
   "cell_type": "markdown",
   "metadata": {},
   "source": [
    "3.1. In a jupyter notebook code cell below we've defined and implemented the class `Regression`.  Inherit from this class to create an ordinary least squares Linear Regression class called AM207OLS.  Your class will implement an sklearn-like api.  It's signature will look like this:\n",
    "\n",
    "`class OLS(Regression):`\n",
    "\n",
    "Implement `fit`, `predict` and `score`. This will involve some linear algebra. (You might want to read up on pseudo-inverses before you directly implement the linear algebra on the lecure slides).\n",
    "\n",
    "The $R^2$ score is defined as: $${R^{2} = {1-{SS_E \\over SS_T}}}$$\n",
    "\n",
    "Where:\n",
    "\n",
    "$$SS_T=\\sum_i (y_i-\\bar{y})^2, SS_R=\\sum_i (\\hat{y_i}-\\bar{y})^2, SS_E=\\sum_i (y_i - \\hat{y_i})^2$$\n",
    "where  ${y_i}$ are the original data values, $\\hat{y_i}$ are the predicted values, and $\\bar{y_i}$ is the mean of the original data values.\n",
    "\n",
    "3.2.  We'll create a synthetic data set using the code below. (Read the documentation for `make_regression` to see what is going on).  \n",
    "\n",
    "Verify that your code recovers these coefficients approximately on doing the fit. Plot the predicted `y` against the actual `y`. Also calculate the score using the same sets `X` and `y`. The usage will look something like:\n",
    "\n",
    "```python\n",
    "lr = OLS()\n",
    "lr.fit(X,y)\n",
    "lr.get_params['coef']\n",
    "lr.predict(X,y)\n",
    "lr.score(X,y)```"
   ]
  },
  {
   "cell_type": "code",
   "execution_count": 51,
   "metadata": {},
   "outputs": [
    {
     "data": {
      "text/plain": [
       "array([76.6568183 , 77.67682678, 63.78807738, 19.3299907 , 59.01638708,\n",
       "       53.13633737, 28.77629958, 10.01888939,  9.25346811, 59.55220395])"
      ]
     },
     "execution_count": 51,
     "metadata": {},
     "output_type": "execute_result"
    }
   ],
   "source": [
    "from sklearn.datasets import make_regression\n",
    "import numpy as np\n",
    "np.random.seed(99)\n",
    "X, y, coef = make_regression(30,10, 10, bias=1, noise=2, coef=True)\n",
    "coef"
   ]
  },
  {
   "cell_type": "markdown",
   "metadata": {},
   "source": [
    "<div class=\"answer-separator\">\n",
    "------------------------\n",
    "</div>"
   ]
  },
  {
   "cell_type": "markdown",
   "metadata": {},
   "source": [
    "## Question 3 - SOLUTIONS"
   ]
  },
  {
   "cell_type": "code",
   "execution_count": 53,
   "metadata": {},
   "outputs": [],
   "source": [
    "class AM207OLS(Regression):\n",
    "    def __init__(self):\n",
    "        self.params = {'beta':None, 'alpha':None}\n",
    "    \n",
    "    def get_params(self, k):\n",
    "        return self.params[k]\n",
    "    \n",
    "    def set_params(self, **kwargs):\n",
    "        for k,v in kwargs.items():\n",
    "            self.params[k] = v\n",
    "        \n",
    "    def fit(self, X, y):\n",
    "        self.params['beta'] = np.matmul(np.linalg.inv(np.matmul(X.T,X)), np.matmul(X.T, y))\n",
    "        self.params['alpha'] = np.mean(y) - np.matmul(np.mean(X, axis=0), self.params['beta'])\n",
    "        return\n",
    "        \n",
    "    def predict(self, X):\n",
    "        return np.matmul(X, self.params['beta']) + self.params['alpha']\n",
    "        \n",
    "    def score(self, X, y):\n",
    "        return np.sum(np.square((np.matmul(X, self.params['beta']) + self.params['alpha'])-y))"
   ]
  },
  {
   "cell_type": "code",
   "execution_count": 54,
   "metadata": {},
   "outputs": [
    {
     "name": "stdout",
     "output_type": "stream",
     "text": [
      "66.30675865166863\n"
     ]
    },
    {
     "data": {
      "text/plain": [
       "array([77.2059491 , 76.99009536, 63.16960372, 18.67284053, 58.80028171,\n",
       "       53.41566211, 28.10202349,  9.34891568, 10.18062801, 59.14536762])"
      ]
     },
     "execution_count": 54,
     "metadata": {},
     "output_type": "execute_result"
    }
   ],
   "source": [
    "lr = AM207OLS()\n",
    "lr.fit(X,y)\n",
    "lr.predict(X)\n",
    "print(lr.score(X,y))\n",
    "lr.get_params('beta')"
   ]
  },
  {
   "cell_type": "markdown",
   "metadata": {},
   "source": [
    "<div class=\"answer-separator\">\n",
    "------------------------\n",
    "</div>"
   ]
  },
  {
   "cell_type": "markdown",
   "metadata": {},
   "source": [
    "## Question 4: Is the Incumbent of the House in?"
   ]
  },
  {
   "cell_type": "markdown",
   "metadata": {},
   "source": [
    "We shall consider US House data from 1896 to 1990. This dataset was compiled for [Gelman, Andrew, and Gary King. \"Estimating incumbency advantage without bias.\" American Journal of Political Science (1990): 1142-1164.](http://gking.harvard.edu/files/gking/files/inc.pdf). Why incumbency and why the house? The house gives us lots of races in any given year to validate our model, and in elections which happen every two years, where demography hasn't changed much, incumbency is a large effect, as might be the presence of a national swing (which we would capture in an intercept in a regression).\n",
    "\n",
    "Let us, then, imagine a very simplified model in which the democratic party's fraction of the vote in this election, for seat(county) $i$, at time $t$ years, $d_{i,t}$, is a linear combination of the democratic party's fraction of the vote in the previous election, at time $t-2$, $d_{i, t-2}$, and a categorical variable $I_{i,t}$, which characterizes the nature of the candidate running in this election:\n",
    "\n",
    "$$\n",
    "I =\n",
    "\\begin{cases} \n",
    "      -1 & \\texttt{Republican Incumbent Running} \\\\\n",
    "       0 & \\texttt{New Candidate Running} \\\\\n",
    "       1 & \\texttt{Democratic Incumbent Running}\n",
    "\\end{cases}\n",
    "$$\n",
    "\n",
    "We use the statsmodels formula notation: \n",
    "\n",
    "`DP1 ~ DP + I`.\n",
    "\n",
    "This means linear regress DP, the democratic fraction of the vote this time around for a given house seat on DP1 which is the democratic fraction the previous time around and I, a \"factor\" or categorical(nominal) variable with 3 levels.\n",
    "\n",
    "In mathematical notation this regression is:\n",
    "\n",
    "$$d_{t,i} = \\beta_1 d_{i, t-2} + \\beta_2 I_{i,t} + \\beta_0,$$\n",
    "\n",
    "where $d_{i, t-2}$ is the democratic fraction in county $i$ at the previous election, and $I_{i,t}$ is the factor above which tells us if (and from which party: 1 for dems, -1 for reps) an incumbent is running. We want to find $\\beta_0,\\beta_1,\\beta_2$.\n",
    "\n",
    "Notice that we are regressing on a discrete variable `I`. This incumbency factor takes values 1, -1, or 0. As such it only changes the *intercept* of the regression. You can think of it as 3 regression lines, one for each subpopulation of incumbency, with their *slope constrained to be the same*. An intercept of $\\beta_0$ for open seats, $\\beta_2+\\beta_0$ for Democratic incumbents and $-\\beta_2+\\beta_0$ for Republican incumbents.\n",
    "\n",
    "You then think a little bit more and realize that, for example, in many conservative districts you will have a republican elected whether he/she is an incumbent or not. And you now realize that our analysis does not consider the party of the incumbent. So you decide to fix this\n",
    "\n",
    "Lets define $P_{t,i}$ as the party in power right now before the election at time $t$, i.e. the party that won the election at time $t-2$ in county $i$. It takes on values:\n",
    "\n",
    "$$\n",
    "P =\n",
    "\\begin{cases} \n",
    "      -1 & \\texttt{Republican Seat holder} \\\\\n",
    "       1 & \\texttt{Democratic Seat holder}\n",
    "\\end{cases}\n",
    "$$\n",
    "We can do this regression instead:\n",
    "\n",
    "`DP1 ~ DP + I + P`, where\n",
    "\n",
    "$P$ represents the incumbent party, i.e. the party which won the election in year t−2.\n",
    "\n",
    "In mathematical notation we have:\n",
    "\n",
    "$$d_{t,i} = \\beta_1 d_{t-2,i} + \\beta_2 I_{t,i} + \\beta_3 P_{t,i} + \\beta_0 ,$$\n",
    "where $P_{t,i}$ is the party in power right now before the election at time $t$, i.e. the party that won the election at time $t-2$ in county $i$. The value of $P$ is 1 for democrats, and -1 for republicans.\n",
    "\n",
    "### Interpretable Regressions\n",
    "\n",
    "One can say that the coefficient of $I$ now more properly captures the ￼effect of incumbency, after controlling for party.\n",
    "\n",
    "Regression coefficients become harder to interpret with multiple features. The meaning of any given coefficient depends on the other features in the model. Gelman and Hill advise: Typical advice is to interpret each coefficient “with all the other predictors held constant.”[Gelman, Andrew; Hill, Jennifer (2006-12-25). Data Analysis Using Regression and Multilevel/Hierarchical Models] Economists like to use the phrase \"ceteris paribus\" to describe this.\n",
    "\n",
    "The way to do this is interpretation to look at the various cases and explain what the co-efficients of $P$ and $I$ mean. Let us at first set $I$ to 0 meaning no incumbents and explain what the coefficients of $P$ mean. We are then fitting:\n",
    "\n",
    "$$d_{t,i} = \\beta_1 d_{t-2,i} + \\beta_3 P_{t,i} + \\beta_0 ,$$\n",
    "which for the $P=1$ (Democrat party winning the past election) case, gives us:\n",
    "\n",
    "$$d_{t,i} = \\beta_1 d_{t-2,i} + \\beta_3 + \\beta_0 ,$$\n",
    "and, for the $P=-1$ (Republican party winning the past election) case, gives us:\n",
    "\n",
    "$$d_{t,i} = \\beta_1 d_{t-2,i} - \\beta_3 + \\beta_0 .$$\n",
    "You can see that $\\beta_3$ then captures half the difference in the effect between democrats and republicans that comes from just having the party incumbent. It tells us that, with respect to the national swing measure $\\beta_0$, whats the party effect for republicans and democrats. It does it very poorly by splitting the difference between the democratic and republican party effects and being constant across seats, but its a start.\n",
    "\n",
    "\n"
   ]
  },
  {
   "cell_type": "code",
   "execution_count": 15,
   "metadata": {
    "collapsed": true
   },
   "outputs": [],
   "source": [
    "pairs=[\n",
    "    (1898,1896),\n",
    "    (1900,1898),\n",
    "    (1904,1902),\n",
    "    (1906,1904),\n",
    "    (1908, 1906),\n",
    "    (1910, 1908),\n",
    "    (1914, 1912),\n",
    "    (1916, 1914),\n",
    "    (1918, 1916),\n",
    "    (1920, 1918),\n",
    "    (1924, 1922),\n",
    "    (1926, 1924),\n",
    "    (1928, 1926),\n",
    "    (1930, 1928),\n",
    "    (1934, 1932),\n",
    "    (1936, 1934),\n",
    "    (1938, 1936),\n",
    "    (1940, 1938),\n",
    "    (1944, 1942),\n",
    "    (1946, 1944),\n",
    "    (1948, 1946),\n",
    "    (1950, 1948),\n",
    "    (1954, 1952),\n",
    "    (1956, 1954),\n",
    "    (1958, 1956),\n",
    "    (1960, 1958),\n",
    "    (1964, 1962),\n",
    "    (1966, 1964),\n",
    "    (1968, 1966),\n",
    "    (1970, 1968),\n",
    "    (1974, 1972),\n",
    "    (1976, 1974),\n",
    "    (1978, 1976),\n",
    "    (1980, 1978),\n",
    "    (1984, 1982),\n",
    "    (1986, 1984),\n",
    "    (1988, 1986),\n",
    "    (1990, 1988)\n",
    "]"
   ]
  },
  {
   "cell_type": "markdown",
   "metadata": {},
   "source": [
    "Each CSV file has the following information:\n",
    "\n",
    "- a number for the state\n",
    "- a number for the district\n",
    "- D1 and R1, the dem and repub percentages in the past election, and I1 the incumency back then\n",
    "- D and R, the dem and repub percentages in the present election, and I the incumbency now\n",
    "- P, the incumbent party from the past election in that seat, 1 for democrats, -1 for republicans\n",
    "- PNOW, the party which won the current election, 1 for democrats, -1 for republicans\n",
    "- A variable we'll call $T$ (for treatment),where we want to decide if we should replace an incumbent for a new candidate, or not. \n",
    "$$\n",
    "T =\n",
    "\\begin{cases} \n",
    "      0 & \\texttt{Incumbent Running} \\\\\n",
    "      1 & \\texttt{New Candidate Running}\n",
    "\\end{cases}\n",
    "$$\n",
    "\n",
    "(This column is not used in this homework)"
   ]
  },
  {
   "cell_type": "code",
   "execution_count": 22,
   "metadata": {
    "collapsed": true
   },
   "outputs": [],
   "source": [
    "pairframes={}\n",
    "for p in pairs:\n",
    "    key = str(p[0])+\"-\"+str(p[1])\n",
    "    pairframes[key] = pd.read_csv(\"data/{}.csv\".format(key))"
   ]
  },
  {
   "cell_type": "markdown",
   "metadata": {},
   "source": [
    "To get warmed up, let us consider the 1988-1990 election pair."
   ]
  },
  {
   "cell_type": "code",
   "execution_count": 25,
   "metadata": {
    "collapsed": true
   },
   "outputs": [],
   "source": [
    "pairframes['1990-1988'].head()"
   ]
  },
  {
   "cell_type": "markdown",
   "metadata": {},
   "source": [
    "To carry out the linear regression we'll use `statsmodels` from python, using the `ols`, or Ordinary Least Squares method defined there.\n",
    "\n",
    "We use the `statsmodels` formula notation. `DP ~ DP1 + I` means linear regress `DP`, the democratic fraction of the vote this time around for a given house seat on `DP1` which is the democratic fraction the previous time around and `I`, a \"factor\" or categorical(nominal) variable with 3 levels: "
   ]
  },
  {
   "cell_type": "code",
   "execution_count": 26,
   "metadata": {
    "collapsed": true
   },
   "outputs": [],
   "source": [
    "import statsmodels.api as sm\n",
    "from statsmodels.formula.api import glm, ols"
   ]
  },
  {
   "cell_type": "code",
   "execution_count": 27,
   "metadata": {
    "collapsed": true
   },
   "outputs": [],
   "source": [
    "ols_model = ols('DP ~ DP1 + I', pairframes['1990-1988']).fit()\n",
    "ols_model"
   ]
  },
  {
   "cell_type": "code",
   "execution_count": 28,
   "metadata": {
    "collapsed": true
   },
   "outputs": [],
   "source": [
    "ols_model.summary()"
   ]
  },
  {
   "cell_type": "markdown",
   "metadata": {},
   "source": [
    "### Interpretable Regressions"
   ]
  },
  {
   "cell_type": "markdown",
   "metadata": {},
   "source": [
    "One can say that **The coefficient of `I` now more properly captures the ￼effect of incumbency, after controlling for party.**\n",
    "\n",
    "Regression coefficients become harder to interpret with multiple features. The meaning of any given coefficient depends on the other features in the model. Gelman and Hill advise: **Typical advice is to interpret each coefficient “with all the other predictors held constant.”**[Gelman, Andrew; Hill, Jennifer (2006-12-25). Data Analysis Using Regression and Multilevel/Hierarchical Models] Economists like to use the phrase \"ceteris paribus\" to describe this."
   ]
  },
  {
   "cell_type": "markdown",
   "metadata": {},
   "source": [
    "The way to do this is interpretation to look at the various cases and explain what the co-efficients of `P` and `I` mean. Let us at first set `I` to 0 meaning no incumbents and explain what the coefficients of `P` mean. \n",
    "We are then fitting:\n",
    "\n",
    "$$d_{t,i} = \\beta_1 d_{t-2,i} + \\beta_3 P_{t,i} + \\beta_0 ,$$\n",
    "\n",
    "which for the $P=1$ (Democrat party winning the past election) case, gives us:\n",
    "\n",
    "$$d_{t,i} = \\beta_1 d_{t-2,i} + \\beta_3 + \\beta_0 ,$$\n",
    "\n",
    "and, for the $P=-1$ (Republican party winning the past election) case, gives us:\n",
    "\n",
    "$$d_{t,i} = \\beta_1 d_{t-2,i} - \\beta_3 + \\beta_0 .$$\n",
    "\n",
    "You can see that $\\beta_3$ then captures half the difference in the effect between democrats and republicans that comes from just having the party incumbent. It tells us that, with respect to the national swing measure $\\beta_0$, whats the party effect for republicans and democrats. It does it very poorly by splitting the difference between the democratic and republican party effects and being constant across seats, but its a start.\n",
    "\n"
   ]
  },
  {
   "cell_type": "markdown",
   "metadata": {},
   "source": [
    "### 4.1 Explain the coefficient of Incumbency"
   ]
  },
  {
   "cell_type": "markdown",
   "metadata": {},
   "source": [
    "**Use a similar argument to the one above**. \n",
    "\n",
    "(Note that setting $I$ to 1 also constrains $P$ to 1, but the reverse is not true as we saw above)."
   ]
  },
  {
   "cell_type": "markdown",
   "metadata": {},
   "source": [
    "*your answer here*\n"
   ]
  },
  {
   "cell_type": "markdown",
   "metadata": {},
   "source": [
    "### 4.2 Carry out the linear regression `DP ~ DP1 + I + P` for all the year pairs\n",
    "\n",
    "**Present the results in a dataframe `ols_frame`. Comment on the trend in the incumbency coefficients after 1960.**\n",
    "\n",
    "(FORMAT: This dataframe has columns `yp`, the year-pair string (the keys of the dictionary of frames), the year for which we do the regression `year` (the higher year in the pair), the `formula`, which is just repeated, and the R-squared in `R2` for each regression, as well as the parameters of the regression and the p-values for the regression (for the name of the column here prefix the parameter with `p_` to denote the p-value).)"
   ]
  },
  {
   "cell_type": "code",
   "execution_count": 33,
   "metadata": {
    "collapsed": true
   },
   "outputs": [],
   "source": [
    "# your code here\n"
   ]
  },
  {
   "cell_type": "code",
   "execution_count": 34,
   "metadata": {
    "collapsed": true
   },
   "outputs": [],
   "source": [
    "# your code here\n"
   ]
  },
  {
   "cell_type": "markdown",
   "metadata": {},
   "source": [
    "*your answer here*\n"
   ]
  },
  {
   "cell_type": "markdown",
   "metadata": {},
   "source": [
    "### 4.3 Bootstrap a distribution for the coefficient of I for 1990-1988"
   ]
  },
  {
   "cell_type": "markdown",
   "metadata": {},
   "source": [
    "**Plot a histogram of the distribution* of the co-efficient. Also print the the 2.5th and 97.5th quantile of the distribution to give a non-parametric confidence interval, plotting these on the histogram. What conclusions can you draw?**\n",
    "\n",
    "(Hint: Bootstrap involves sampling with replacement from the data and recalculating the quantity of interest, in our case the regression. This will give you a new coefficient for each regression. If you're interested in using the method for more complex applications it if imperative to familiarize with the assumptions, [this](http://stats.stackexchange.com/questions/26088/explaining-to-laypeople-why-bootstrapping-works) is a good start, but [this article](https://goo.gl/2T6k8j) is also helpful.)"
   ]
  },
  {
   "cell_type": "code",
   "execution_count": 36,
   "metadata": {
    "collapsed": true
   },
   "outputs": [],
   "source": [
    "#your code here\n"
   ]
  },
  {
   "cell_type": "markdown",
   "metadata": {},
   "source": [
    "### 4.4 Inference using p-values over time"
   ]
  },
  {
   "cell_type": "markdown",
   "metadata": {},
   "source": [
    "Of-course, another more classic way of doing this same inference is though the regression itself -- it give us p-values. These are values from a t-test that asks if the coefficient is different from 0. The regression machinery assumes Normality of errors for this purpose. Lets assume the Normality and do an inference on all the years in our regression. The assumption used to calculate these p-values are: for each model (in our case `year`), the errors at each point of the regression are uncorrelated and follow a Normal distribution. We shall assume these to be true for now (in real life you ought to be checking a plot of residuals as well).\n",
    "\n",
    "Generally we'd like the p-values to be vanishingly small as they *represent the probability that we observed such an extreme incumbency effect purely by chance*. Have a look at the Wikipedia page on [p-values](https://en.wikipedia.org/wiki/P-value) for a quick reminder.\n",
    "\n",
    "Furthermore, when constructing results like this (where there are many tests considered at once) there are other concerns to take into account. One such concern is the issue of [multiple testing](https://en.wikipedia.org/wiki/Multiple_comparisons_problem). This is important because when we start dealing with a **large number** of hypotheses jointly the probability of making mistakes gets larger, hence we should be **more stringent** about what it means for a result to be significant. One such correction is the [**Bonferroni Correction**](https://en.wikipedia.org/wiki/Bonferroni_correction) which provides a new bound for deciding significance. Instead of asking the classic question: **is the p-value < $0.05$**?, this considers instead a stricter bound, we ask: **is p-value < $0.05/H$**. Where $H$ is the number of hypotheses being considered, in our case $H = 38$ (the number of years) -- this is a much higher bar for significance."
   ]
  },
  {
   "cell_type": "markdown",
   "metadata": {},
   "source": [
    "**Plot a graph of incumbency (`I`) coefficient p-vales for every year. Use this plot to study if the coefficients after 1960 are significantly different from 0.** (Plot them in log scale for easier viewing of small numbers. Also draw lines at $\\log(0.05)$ and $\\log(0.05/38)$ for reference). **Interpret your results**."
   ]
  },
  {
   "cell_type": "code",
   "execution_count": 37,
   "metadata": {
    "collapsed": true
   },
   "outputs": [],
   "source": [
    "#your code here\n"
   ]
  },
  {
   "cell_type": "markdown",
   "metadata": {},
   "source": [
    "*your answer here*\n"
   ]
  },
  {
   "cell_type": "markdown",
   "metadata": {},
   "source": [
    "### 4.5 Carry out the linear regression with an interaction between the previous elections democratic fraction and this elections incumbency, for all the year pairs"
   ]
  },
  {
   "cell_type": "markdown",
   "metadata": {},
   "source": [
    "**Is the regression complete? Or do we need more features?**"
   ]
  },
  {
   "cell_type": "markdown",
   "metadata": {},
   "source": [
    "Recall that our model is fairly restrictive, the different incumbency groups are allowed to have different intercepts but the new candidate group, $I = 0$ is equally between the two incumbency groups. Furthermore, the incumbency groups are not allowed different slopes, meaning the effect of the previous elections Democratic fraction (`DP1`) is assumed the same for all incumbency groups. This may not be the case. \n",
    "\n",
    "In the figure below we can see that in fact the different groups seem to have not only different intercepts, but also possibly different slopes. "
   ]
  },
  {
   "cell_type": "code",
   "execution_count": 38,
   "metadata": {
    "collapsed": true
   },
   "outputs": [],
   "source": [
    "sns.lmplot(x=\"DP1\", y=\"DP\", hue = \"I\", data=pairframes['1990-1988'], size = 7, aspect=1.2)"
   ]
  },
  {
   "cell_type": "markdown",
   "metadata": {},
   "source": [
    "**Carry out the regression with an between the previous elections democratic fraction and this elections incumbency, for each year pair. Is there evidence for interaction? How can you know for sure? **\n",
    "\n",
    "(HINT: In mathematical notation this regression is:\n",
    "\n",
    "$$d_{t,i} = \\beta_4 d_{i, t-2} I_{i,t} + \\beta_3 I_{i,t} + \\beta_2 P_{i,t} + \\beta_4 I_{i,t} d_{i, t-2} + \\beta_0,$$\n",
    "\n",
    "In `statsmodels` notation, we wish to carry out the regression:\n",
    "\n",
    "`DP ~ DP1 + I + P + DP1:I` )\n"
   ]
  },
  {
   "cell_type": "code",
   "execution_count": 39,
   "metadata": {
    "collapsed": true,
    "scrolled": false
   },
   "outputs": [],
   "source": [
    "#your code here\n"
   ]
  },
  {
   "cell_type": "code",
   "execution_count": 40,
   "metadata": {
    "collapsed": true
   },
   "outputs": [],
   "source": [
    "#your code here\n"
   ]
  },
  {
   "cell_type": "markdown",
   "metadata": {},
   "source": [
    "*your answer here*\n"
   ]
  }
 ],
 "metadata": {
  "anaconda-cloud": {},
  "kernel_info": {
   "name": "python3"
  },
  "kernelspec": {
   "display_name": "Python 3",
   "language": "python",
   "name": "python3"
  },
  "language_info": {
   "codemirror_mode": {
    "name": "ipython",
    "version": 3
   },
   "file_extension": ".py",
   "mimetype": "text/x-python",
   "name": "python",
   "nbconvert_exporter": "python",
   "pygments_lexer": "ipython3",
   "version": "3.6.5"
  },
  "nteract": {
   "version": "0.11.7"
  }
 },
 "nbformat": 4,
 "nbformat_minor": 2
}
